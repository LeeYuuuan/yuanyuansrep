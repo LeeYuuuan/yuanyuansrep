{
  "nbformat": 4,
  "nbformat_minor": 0,
  "metadata": {
    "colab": {
      "provenance": [],
      "authorship_tag": "ABX9TyNRE41RkmzSIkl0nR0WsdY2",
      "include_colab_link": true
    },
    "kernelspec": {
      "name": "python3",
      "display_name": "Python 3"
    },
    "language_info": {
      "name": "python"
    }
  },
  "cells": [
    {
      "cell_type": "markdown",
      "metadata": {
        "id": "view-in-github",
        "colab_type": "text"
      },
      "source": [
        "<a href=\"https://colab.research.google.com/github/LeeYuuuan/yuanyuansrep/blob/main/lalalalalalala.ipynb\" target=\"_parent\"><img src=\"https://colab.research.google.com/assets/colab-badge.svg\" alt=\"Open In Colab\"/></a>"
      ]
    },
    {
      "cell_type": "code",
      "execution_count": 3,
      "metadata": {
        "id": "4c0JzTLKROP_"
      },
      "outputs": [],
      "source": [
        "import numpy as np\n",
        "from sklearn.model_selection import train_test_split\n",
        "from sklearn.neighbors import KNeighborsClassifier\n",
        "from sklearn.metrics import accuracy_score\n",
        "from sklearn.metrics import confusion_matrix\n",
        "import matplotlib.pyplot as plt\n",
        "\n",
        "from sklearn.datasets import load_iris"
      ]
    },
    {
      "cell_type": "code",
      "source": [
        "import os"
      ],
      "metadata": {
        "id": "OyBN8EhXcaa6"
      },
      "execution_count": 45,
      "outputs": []
    },
    {
      "cell_type": "code",
      "source": [
        "!unzip \"data\" -d \"data\""
      ],
      "metadata": {
        "id": "dWQ3NeicaDQj"
      },
      "execution_count": null,
      "outputs": []
    },
    {
      "cell_type": "code",
      "source": [
        "all_type = []\n",
        "for file_name in os.listdir(\"datad\"):\n",
        "    all_type.append(os.path.join(file_name))\n",
        "    print(all_type)"
      ],
      "metadata": {
        "colab": {
          "base_uri": "https://localhost:8080/"
        },
        "id": "0cqEUBICdbca",
        "outputId": "8682b10e-4e10-4d03-fca0-3366f293d05f"
      },
      "execution_count": 54,
      "outputs": [
        {
          "output_type": "stream",
          "name": "stdout",
          "text": [
            "['jueyuan']\n",
            "['jueyuan', 'wuquexian']\n",
            "['jueyuan', 'wuquexian', 'shuizhu']\n",
            "['jueyuan', 'wuquexian', 'shuizhu', 'bandaoti']\n",
            "['jueyuan', 'wuquexian', 'shuizhu', 'bandaoti', 'qixi']\n",
            "['jueyuan', 'wuquexian', 'shuizhu', 'bandaoti', 'qixi', 'qipao']\n"
          ]
        }
      ]
    },
    {
      "cell_type": "code",
      "source": [
        "all_type"
      ],
      "metadata": {
        "colab": {
          "base_uri": "https://localhost:8080/"
        },
        "id": "PwlpjzyCdd9W",
        "outputId": "24463cd5-f9f2-40ac-c83f-78992ef0a6cd"
      },
      "execution_count": 55,
      "outputs": [
        {
          "output_type": "execute_result",
          "data": {
            "text/plain": [
              "['jueyuan', 'wuquexian', 'shuizhu', 'bandaoti', 'qixi', 'qipao']"
            ]
          },
          "metadata": {},
          "execution_count": 55
        }
      ]
    },
    {
      "cell_type": "code",
      "source": [
        "all_file_path = {}\n",
        "folder_path = \"datad/\"\n",
        "for file_name in all_type:\n",
        "    file_path = []\n",
        "    fp = os.path.join(folder_path, file_name)\n",
        "    for f_n in os.listdir(fp):\n",
        "        if f_n.endswith(\".txt\"):\n",
        "            file_path.append(os.path.join(fp, f_n))\n",
        "    all_file_path[file_name] = file_path"
      ],
      "metadata": {
        "id": "j8ba5IbVdvc6"
      },
      "execution_count": 61,
      "outputs": []
    },
    {
      "cell_type": "code",
      "source": [
        "all_file_path"
      ],
      "metadata": {
        "id": "-P5ELJbReup_"
      },
      "execution_count": null,
      "outputs": []
    },
    {
      "cell_type": "code",
      "source": [
        "len_all_file_path = 0\n",
        "\n",
        "\n",
        "for key in all_file_path:\n",
        "    len_all_file_path += len(all_file_path[key])\n",
        "print(len_all_file_path)\n",
        "len_feature = 0\n",
        "for key in all_file_path:\n",
        "    temp_np = np.loadtxt(all_file_path[key][0])\n",
        "    len_feature += temp_np.shape[0]\n",
        "    # print(len_feature)\n",
        "    break\n",
        "\n",
        "\n"
      ],
      "metadata": {
        "colab": {
          "base_uri": "https://localhost:8080/"
        },
        "id": "k2q9NL57fByP",
        "outputId": "5236a85c-6efe-4090-eab2-a6ebbc0368c4"
      },
      "execution_count": 81,
      "outputs": [
        {
          "output_type": "stream",
          "name": "stdout",
          "text": [
            "726\n"
          ]
        }
      ]
    },
    {
      "cell_type": "code",
      "source": [
        "!zip -r data.zip datad"
      ],
      "metadata": {
        "id": "w5TyuKCb0k96"
      },
      "execution_count": null,
      "outputs": []
    },
    {
      "cell_type": "code",
      "source": [
        "data = np.zeros((len_all_file_path, len_feature))\n",
        "label = np.zeros(len_all_file_path)\n",
        "flag = 0\n",
        "sum_i = 0\n",
        "for key in all_file_path:\n",
        "    for i in range(len(all_file_path[key])):\n",
        "        label[sum_i] = flag\n",
        "        data[sum_i] = np.loadtxt(all_file_path[key][i])\n",
        "        sum_i += 1\n",
        "    flag += 1"
      ],
      "metadata": {
        "id": "VNxeYrW2gpGT"
      },
      "execution_count": 246,
      "outputs": []
    },
    {
      "cell_type": "code",
      "source": [
        "data"
      ],
      "metadata": {
        "id": "KS8ivorEgwk9"
      },
      "execution_count": null,
      "outputs": []
    },
    {
      "cell_type": "code",
      "source": [
        "knn = KNeighborsClassifier(n_neighbors=3)"
      ],
      "metadata": {
        "id": "rPQrAxT1SiPa"
      },
      "execution_count": 9,
      "outputs": []
    },
    {
      "cell_type": "code",
      "source": [
        "train_data, test_data, train_labels, test_labels = train_test_split(data, label, test_size=0.2, random_state=42)"
      ],
      "metadata": {
        "id": "ZAJKr3UZSPch"
      },
      "execution_count": 91,
      "outputs": []
    },
    {
      "cell_type": "code",
      "source": [
        "knn.fit(train_data, train_labels)\n",
        "predictions = knn.predict(test_data)\n",
        "acc = accuracy_score(test_labels, predictions)\n",
        "print(acc)"
      ],
      "metadata": {
        "colab": {
          "base_uri": "https://localhost:8080/"
        },
        "id": "pt8Mo94-SvVM",
        "outputId": "ff011f55-b6a1-4660-d5e6-8d25d3aeff97"
      },
      "execution_count": 92,
      "outputs": [
        {
          "output_type": "stream",
          "name": "stdout",
          "text": [
            "0.9726027397260274\n"
          ]
        }
      ]
    },
    {
      "cell_type": "code",
      "source": [
        "from sklearn.metrics import classification_report\n",
        "report = classification_report(test_labels, predictions)\n",
        "\n",
        "# 打印评价报告\n",
        "print(report)\n",
        "print(confusion_matrix(test_labels, predictions))\n",
        "print(f\"0:{all_type[0]} 1:{all_type[1]} 2:{all_type[2]} 3:{all_type[3]} 4:{all_type[4]} 5:{all_type[5]}\")"
      ],
      "metadata": {
        "colab": {
          "base_uri": "https://localhost:8080/"
        },
        "id": "X423AQdojNSx",
        "outputId": "94c33e2d-11a7-422b-eccf-c45b28651b50"
      },
      "execution_count": 111,
      "outputs": [
        {
          "output_type": "stream",
          "name": "stdout",
          "text": [
            "              precision    recall  f1-score   support\n",
            "\n",
            "         0.0       1.00      1.00      1.00        30\n",
            "         1.0       0.92      1.00      0.96        24\n",
            "         2.0       0.96      0.93      0.94        27\n",
            "         3.0       1.00      1.00      1.00        23\n",
            "         4.0       0.94      0.89      0.91        18\n",
            "         5.0       1.00      1.00      1.00        24\n",
            "\n",
            "    accuracy                           0.97       146\n",
            "   macro avg       0.97      0.97      0.97       146\n",
            "weighted avg       0.97      0.97      0.97       146\n",
            "\n",
            "[[30  0  0  0  0  0]\n",
            " [ 0 24  0  0  0  0]\n",
            " [ 0  1 25  0  1  0]\n",
            " [ 0  0  0 23  0  0]\n",
            " [ 0  1  1  0 16  0]\n",
            " [ 0  0  0  0  0 24]]\n",
            "0:jueyuan 1:wuquexian 2:shuizhu 3:bandaoti 4:qixi 5:qipao\n"
          ]
        }
      ]
    },
    {
      "cell_type": "code",
      "source": [
        "test_labels"
      ],
      "metadata": {
        "colab": {
          "base_uri": "https://localhost:8080/"
        },
        "id": "KbrTU7jNhqpa",
        "outputId": "fc40e241-223b-460e-b07d-8fe7c59e277d"
      },
      "execution_count": 96,
      "outputs": [
        {
          "output_type": "execute_result",
          "data": {
            "text/plain": [
              "array([2., 4., 4., 0., 4., 3., 0., 0., 2., 5., 2., 0., 3., 0., 5., 3., 5.,\n",
              "       3., 1., 5., 0., 0., 3., 0., 0., 3., 5., 3., 2., 0., 0., 0., 1., 1.,\n",
              "       5., 2., 4., 1., 2., 4., 2., 1., 1., 5., 1., 5., 2., 5., 3., 3., 0.,\n",
              "       4., 1., 2., 2., 2., 4., 0., 5., 4., 2., 5., 0., 2., 0., 3., 0., 1.,\n",
              "       1., 0., 4., 1., 3., 2., 2., 5., 1., 0., 4., 5., 5., 2., 4., 4., 5.,\n",
              "       1., 3., 2., 0., 0., 1., 2., 3., 5., 0., 1., 3., 3., 3., 3., 4., 0.,\n",
              "       1., 4., 4., 2., 0., 0., 2., 2., 3., 0., 5., 5., 2., 2., 5., 5., 3.,\n",
              "       1., 2., 5., 3., 1., 1., 0., 1., 2., 4., 1., 0., 4., 1., 0., 0., 4.,\n",
              "       5., 2., 1., 3., 5., 2., 5., 3., 1., 3.])"
            ]
          },
          "metadata": {},
          "execution_count": 96
        }
      ]
    },
    {
      "cell_type": "code",
      "source": [
        "predictions"
      ],
      "metadata": {
        "id": "tOz7NBWok0RI"
      },
      "execution_count": null,
      "outputs": []
    },
    {
      "cell_type": "code",
      "source": [
        "data.shape"
      ],
      "metadata": {
        "id": "b0vAzVaZmBil"
      },
      "execution_count": null,
      "outputs": []
    },
    {
      "cell_type": "code",
      "source": [
        "for i in range(len(predictions)):\n",
        "    if predictions[i] != test_labels[i]:\n",
        "        print(i, predictions[i], test_labels[i])\n"
      ],
      "metadata": {
        "colab": {
          "base_uri": "https://localhost:8080/"
        },
        "id": "Cb-L0C9ISy2M",
        "outputId": "276efa2a-c396-4bd3-c5a6-60c3e4c3176d"
      },
      "execution_count": 104,
      "outputs": [
        {
          "output_type": "stream",
          "name": "stdout",
          "text": [
            "39 1.0 4.0\n",
            "91 1.0 2.0\n",
            "108 4.0 2.0\n",
            "128 2.0 4.0\n"
          ]
        }
      ]
    },
    {
      "cell_type": "code",
      "source": [
        "plt.plot(test_data[39][0:1000], label=\"test\")\n",
        "plt.plot(data[150][0:1000], label=\"err\")\n",
        "plt.plot(data[590][0:1000], label=\"right\")\n",
        "plt.legend()\n",
        "plt.show"
      ],
      "metadata": {
        "colab": {
          "base_uri": "https://localhost:8080/",
          "height": 602
        },
        "id": "uyrggK88TF8n",
        "outputId": "0393268e-4c31-49ae-f980-c1b4ffbf5e98"
      },
      "execution_count": 116,
      "outputs": [
        {
          "output_type": "execute_result",
          "data": {
            "text/plain": [
              "<function matplotlib.pyplot.show(close=None, block=None)>"
            ],
            "text/html": [
              "<div style=\"max-width:800px; border: 1px solid var(--colab-border-color);\"><style>\n",
              "      pre.function-repr-contents {\n",
              "        overflow-x: auto;\n",
              "        padding: 8px 12px;\n",
              "        max-height: 500px;\n",
              "      }\n",
              "\n",
              "      pre.function-repr-contents.function-repr-contents-collapsed {\n",
              "        cursor: pointer;\n",
              "        max-height: 100px;\n",
              "      }\n",
              "    </style>\n",
              "    <pre style=\"white-space: initial; background:\n",
              "         var(--colab-secondary-surface-color); padding: 8px 12px;\n",
              "         border-bottom: 1px solid var(--colab-border-color);\"><b>matplotlib.pyplot.show</b><br/>def show(*args, **kwargs)</pre><pre class=\"function-repr-contents function-repr-contents-collapsed\" style=\"\"><a class=\"filepath\" style=\"display:none\" href=\"#\">/usr/local/lib/python3.10/dist-packages/matplotlib/pyplot.py</a>Display all open figures.\n",
              "\n",
              "Parameters\n",
              "----------\n",
              "block : bool, optional\n",
              "    Whether to wait for all figures to be closed before returning.\n",
              "\n",
              "    If `True` block and run the GUI main loop until all figure windows\n",
              "    are closed.\n",
              "\n",
              "    If `False` ensure that all figure windows are displayed and return\n",
              "    immediately.  In this case, you are responsible for ensuring\n",
              "    that the event loop is running to have responsive figures.\n",
              "\n",
              "    Defaults to True in non-interactive mode and to False in interactive\n",
              "    mode (see `.pyplot.isinteractive`).\n",
              "\n",
              "See Also\n",
              "--------\n",
              "ion : Enable interactive mode, which shows / updates the figure after\n",
              "      every plotting command, so that calling ``show()`` is not necessary.\n",
              "ioff : Disable interactive mode.\n",
              "savefig : Save the figure to an image file instead of showing it on screen.\n",
              "\n",
              "Notes\n",
              "-----\n",
              "**Saving figures to file and showing a window at the same time**\n",
              "\n",
              "If you want an image file as well as a user interface window, use\n",
              "`.pyplot.savefig` before `.pyplot.show`. At the end of (a blocking)\n",
              "``show()`` the figure is closed and thus unregistered from pyplot. Calling\n",
              "`.pyplot.savefig` afterwards would save a new and thus empty figure. This\n",
              "limitation of command order does not apply if the show is non-blocking or\n",
              "if you keep a reference to the figure and use `.Figure.savefig`.\n",
              "\n",
              "**Auto-show in jupyter notebooks**\n",
              "\n",
              "The jupyter backends (activated via ``%matplotlib inline``,\n",
              "``%matplotlib notebook``, or ``%matplotlib widget``), call ``show()`` at\n",
              "the end of every cell by default. Thus, you usually don&#x27;t have to call it\n",
              "explicitly there.</pre>\n",
              "      <script>\n",
              "      if (google.colab.kernel.accessAllowed && google.colab.files && google.colab.files.view) {\n",
              "        for (const element of document.querySelectorAll('.filepath')) {\n",
              "          element.style.display = 'block'\n",
              "          element.onclick = (event) => {\n",
              "            event.preventDefault();\n",
              "            event.stopPropagation();\n",
              "            google.colab.files.view(element.textContent, 401);\n",
              "          };\n",
              "        }\n",
              "      }\n",
              "      for (const element of document.querySelectorAll('.function-repr-contents')) {\n",
              "        element.onclick = (event) => {\n",
              "          event.preventDefault();\n",
              "          event.stopPropagation();\n",
              "          element.classList.toggle('function-repr-contents-collapsed');\n",
              "        };\n",
              "      }\n",
              "      </script>\n",
              "      </div>"
            ]
          },
          "metadata": {},
          "execution_count": 116
        },
        {
          "output_type": "display_data",
          "data": {
            "text/plain": [
              "<Figure size 640x480 with 1 Axes>"
            ],
            "image/png": "[encoded data removed]"
          },
          "metadata": {}
        }
      ]
    },
    {
      "cell_type": "markdown",
      "source": [
        "##"
      ],
      "metadata": {
        "id": "9lrjJNi309GO"
      }
    },
    {
      "cell_type": "markdown",
      "source": [
        "## svm"
      ],
      "metadata": {
        "id": "Dir6atpHBkHN"
      }
    },
    {
      "cell_type": "code",
      "source": [
        "from sklearn.svm import SVC\n",
        "\n",
        "X_train, X_test, y_train, y_test = train_test_split(data, label, test_size=0.7, random_state=42)\n",
        "\n",
        "# 创建一个SVM分类器\n",
        "svm_clf_2 = SVC(kernel=\"linear\")\n",
        "svm_clf_2.fit(X_train, y_train)\n",
        "predictions_svm = svm_clf_2.predict(X_test)\n",
        "acc = accuracy_score(y_test, predictions_svm)\n",
        "print(acc)\n",
        "\n",
        "\n",
        "report = classification_report(y_test, predictions_svm)\n",
        "\n",
        "# 打印评价报告\n",
        "print(report)\n",
        "print(confusion_matrix(y_test, predictions_svm))\n",
        "print(f\"0:{all_type[0]} 1:{all_type[1]} 2:{all_type[2]} 3:{all_type[3]} 4:{all_type[4]} 5:{all_type[5]}\")"
      ],
      "metadata": {
        "colab": {
          "base_uri": "https://localhost:8080/"
        },
        "id": "fUZdzAwwBl1H",
        "outputId": "0d9ac5d9-ad82-4e29-a101-f52eabae6b7e"
      },
      "execution_count": 250,
      "outputs": [
        {
          "output_type": "stream",
          "name": "stdout",
          "text": [
            "0.9941060903732809\n",
            "              precision    recall  f1-score   support\n",
            "\n",
            "         0.0       1.00      1.00      1.00        93\n",
            "         1.0       0.99      1.00      0.99        82\n",
            "         2.0       0.98      1.00      0.99        90\n",
            "         3.0       1.00      1.00      1.00        81\n",
            "         4.0       1.00      0.96      0.98        79\n",
            "         5.0       1.00      1.00      1.00        84\n",
            "\n",
            "    accuracy                           0.99       509\n",
            "   macro avg       0.99      0.99      0.99       509\n",
            "weighted avg       0.99      0.99      0.99       509\n",
            "\n",
            "[[93  0  0  0  0  0]\n",
            " [ 0 82  0  0  0  0]\n",
            " [ 0  0 90  0  0  0]\n",
            " [ 0  0  0 81  0  0]\n",
            " [ 0  1  2  0 76  0]\n",
            " [ 0  0  0  0  0 84]]\n",
            "0:jueyuan 1:wuquexian 2:shuizhu 3:bandaoti 4:qixi 5:qipao\n"
          ]
        }
      ]
    },
    {
      "cell_type": "code",
      "source": [
        "for i in range(len(predictions_svm)):\n",
        "    if predictions_svm[i] != y_test[i]:\n",
        "        print(i, predictions_svm[i], y_test[i])\n"
      ],
      "metadata": {
        "colab": {
          "base_uri": "https://localhost:8080/"
        },
        "id": "18ng21_8CjW6",
        "outputId": "bdfb511a-5895-4c1a-c1bd-c4c3caf03e60"
      },
      "execution_count": 252,
      "outputs": [
        {
          "output_type": "stream",
          "name": "stdout",
          "text": [
            "39 1.0 4.0\n",
            "315 2.0 4.0\n",
            "465 2.0 4.0\n"
          ]
        }
      ]
    },
    {
      "cell_type": "markdown",
      "source": [
        "##qiyu\n"
      ],
      "metadata": {
        "id": "PRsQ7UsMBmHU"
      }
    },
    {
      "cell_type": "code",
      "source": [],
      "metadata": {
        "colab": {
          "base_uri": "https://localhost:8080/"
        },
        "id": "8v7RT8wvCOeI",
        "outputId": "f4458d7d-1550-426a-db53-a4d86582de52"
      },
      "execution_count": 249,
      "outputs": [
        {
          "output_type": "execute_result",
          "data": {
            "text/plain": [
              "(18, 6)"
            ]
          },
          "metadata": {},
          "execution_count": 249
        }
      ]
    },
    {
      "cell_type": "code",
      "source": [
        "data_qiyu = np.loadtxt(\"qiyushuju.txt\")"
      ],
      "metadata": {
        "colab": {
          "base_uri": "https://localhost:8080/"
        },
        "id": "aUZg5pFb09pX",
        "outputId": "bb73980f-7419-4e76-917e-2178904066a5"
      },
      "execution_count": 135,
      "outputs": [
        {
          "output_type": "stream",
          "name": "stdout",
          "text": [
            "4.14\t3.94\t17.94\t20.94\t23.94\t5\n",
            "\n"
          ]
        }
      ]
    },
    {
      "cell_type": "code",
      "source": [
        "label_qiyu = np.zeros(data_qiyu.shape[0])\n",
        "for i in range(data_qiyu.shape[0]):\n",
        "    label_qiyu[i] = data_qiyu[i][5]"
      ],
      "metadata": {
        "id": "4NmNBAFA2lXH"
      },
      "execution_count": 141,
      "outputs": []
    },
    {
      "cell_type": "code",
      "source": [
        "label_qiyu"
      ],
      "metadata": {
        "colab": {
          "base_uri": "https://localhost:8080/"
        },
        "id": "202mnTJ-2XVL",
        "outputId": "b9adf9c7-fc02-4f7a-af89-549dc4b72bbf"
      },
      "execution_count": 142,
      "outputs": [
        {
          "output_type": "execute_result",
          "data": {
            "text/plain": [
              "array([5., 5., 5., 5., 5., 5., 5., 5., 5., 5., 4., 4., 4., 4., 4., 4., 4.,\n",
              "       4., 4., 4., 2., 2., 2., 2., 2., 2., 2., 2., 2., 2., 3., 3., 3., 3.,\n",
              "       3., 3., 3., 3., 3., 3., 0., 0., 0., 0., 0., 0., 0., 0., 0., 0., 1.,\n",
              "       1., 1., 1., 1., 1., 1., 1., 1., 1.])"
            ]
          },
          "metadata": {},
          "execution_count": 142
        }
      ]
    },
    {
      "cell_type": "code",
      "source": [
        "np.delete(data_qiyu, 5, axis=1)"
      ],
      "metadata": {
        "id": "xM1Fh0132_br"
      },
      "execution_count": null,
      "outputs": []
    },
    {
      "cell_type": "code",
      "source": [
        "train_data, test_data, train_labels, test_labels = train_test_split(data_qiyu, label_qiyu, test_size=0.3, random_state=42)"
      ],
      "metadata": {
        "id": "BoWlrtwj3Mbd"
      },
      "execution_count": 187,
      "outputs": []
    },
    {
      "cell_type": "code",
      "source": [
        "knn_qiyu = KNeighborsClassifier(n_neighbors=2)\n",
        "knn_qiyu.fit(train_data, train_labels)\n",
        "predictions = knn_qiyu.predict(test_data)\n",
        "acc = accuracy_score(test_labels, predictions)\n",
        "print(acc)"
      ],
      "metadata": {
        "colab": {
          "base_uri": "https://localhost:8080/"
        },
        "id": "UEw7t2Hh3daN",
        "outputId": "3529483e-0b44-4295-c2a4-d73f3eaa25cd"
      },
      "execution_count": 189,
      "outputs": [
        {
          "output_type": "stream",
          "name": "stdout",
          "text": [
            "0.9444444444444444\n"
          ]
        }
      ]
    },
    {
      "cell_type": "code",
      "source": [
        "\n",
        "\n",
        "from sklearn.metrics import classification_report\n",
        "report = classification_report(test_labels, predictions)\n",
        "\n",
        "# 打印评价报告\n",
        "print(report)\n",
        "print(confusion_matrix(test_labels, predictions))\n",
        "print(f\"0:{all_type[0]} 1:{all_type[1]} 2:{all_type[2]} 3:{all_type[3]} 4:{all_type[4]} 5:{all_type[5]}\")"
      ],
      "metadata": {
        "colab": {
          "base_uri": "https://localhost:8080/"
        },
        "id": "XkJ7PvyN3Pwv",
        "outputId": "537c340c-678f-4b67-fe16-a45661b9a0f5"
      },
      "execution_count": 190,
      "outputs": [
        {
          "output_type": "stream",
          "name": "stdout",
          "text": [
            "              precision    recall  f1-score   support\n",
            "\n",
            "         0.0       1.00      1.00      1.00         3\n",
            "         1.0       1.00      1.00      1.00         4\n",
            "         3.0       1.00      1.00      1.00         3\n",
            "         4.0       0.75      1.00      0.86         3\n",
            "         5.0       1.00      0.80      0.89         5\n",
            "\n",
            "    accuracy                           0.94        18\n",
            "   macro avg       0.95      0.96      0.95        18\n",
            "weighted avg       0.96      0.94      0.95        18\n",
            "\n",
            "[[3 0 0 0 0]\n",
            " [0 4 0 0 0]\n",
            " [0 0 3 0 0]\n",
            " [0 0 0 3 0]\n",
            " [0 0 0 1 4]]\n",
            "0:jueyuan 1:wuquexian 2:shuizhu 3:bandaoti 4:qixi 5:qipao\n"
          ]
        }
      ]
    },
    {
      "cell_type": "code",
      "source": [
        "for i in range(len(predictions)):\n",
        "    if predictions[i] != test_labels[i]:\n",
        "        print(i, predictions[i], test_labels[i])\n"
      ],
      "metadata": {
        "colab": {
          "base_uri": "https://localhost:8080/"
        },
        "id": "grouf1_G31iy",
        "outputId": "5c48042a-911f-4861-cd12-1e7ac8dd9de4"
      },
      "execution_count": 191,
      "outputs": [
        {
          "output_type": "stream",
          "name": "stdout",
          "text": [
            "0 4.0 5.0\n"
          ]
        }
      ]
    },
    {
      "cell_type": "code",
      "source": [
        "plt.plot(test_data[0], label=\"test\")\n",
        "plt.plot(data_qiyu[15], label=\"err\")\n",
        "plt.plot(data_qiyu[5], label=\"right\")\n",
        "plt.legend()\n",
        "plt.show"
      ],
      "metadata": {
        "colab": {
          "base_uri": "https://localhost:8080/",
          "height": 600
        },
        "id": "vyO2iFpi5r3e",
        "outputId": "8138dd53-0a5c-4d6e-f0bc-474d79639b7e"
      },
      "execution_count": 194,
      "outputs": [
        {
          "output_type": "execute_result",
          "data": {
            "text/plain": [
              "<function matplotlib.pyplot.show(close=None, block=None)>"
            ],
            "text/html": [
              "<div style=\"max-width:800px; border: 1px solid var(--colab-border-color);\"><style>\n",
              "      pre.function-repr-contents {\n",
              "        overflow-x: auto;\n",
              "        padding: 8px 12px;\n",
              "        max-height: 500px;\n",
              "      }\n",
              "\n",
              "      pre.function-repr-contents.function-repr-contents-collapsed {\n",
              "        cursor: pointer;\n",
              "        max-height: 100px;\n",
              "      }\n",
              "    </style>\n",
              "    <pre style=\"white-space: initial; background:\n",
              "         var(--colab-secondary-surface-color); padding: 8px 12px;\n",
              "         border-bottom: 1px solid var(--colab-border-color);\"><b>matplotlib.pyplot.show</b><br/>def show(*args, **kwargs)</pre><pre class=\"function-repr-contents function-repr-contents-collapsed\" style=\"\"><a class=\"filepath\" style=\"display:none\" href=\"#\">/usr/local/lib/python3.10/dist-packages/matplotlib/pyplot.py</a>Display all open figures.\n",
              "\n",
              "Parameters\n",
              "----------\n",
              "block : bool, optional\n",
              "    Whether to wait for all figures to be closed before returning.\n",
              "\n",
              "    If `True` block and run the GUI main loop until all figure windows\n",
              "    are closed.\n",
              "\n",
              "    If `False` ensure that all figure windows are displayed and return\n",
              "    immediately.  In this case, you are responsible for ensuring\n",
              "    that the event loop is running to have responsive figures.\n",
              "\n",
              "    Defaults to True in non-interactive mode and to False in interactive\n",
              "    mode (see `.pyplot.isinteractive`).\n",
              "\n",
              "See Also\n",
              "--------\n",
              "ion : Enable interactive mode, which shows / updates the figure after\n",
              "      every plotting command, so that calling ``show()`` is not necessary.\n",
              "ioff : Disable interactive mode.\n",
              "savefig : Save the figure to an image file instead of showing it on screen.\n",
              "\n",
              "Notes\n",
              "-----\n",
              "**Saving figures to file and showing a window at the same time**\n",
              "\n",
              "If you want an image file as well as a user interface window, use\n",
              "`.pyplot.savefig` before `.pyplot.show`. At the end of (a blocking)\n",
              "``show()`` the figure is closed and thus unregistered from pyplot. Calling\n",
              "`.pyplot.savefig` afterwards would save a new and thus empty figure. This\n",
              "limitation of command order does not apply if the show is non-blocking or\n",
              "if you keep a reference to the figure and use `.Figure.savefig`.\n",
              "\n",
              "**Auto-show in jupyter notebooks**\n",
              "\n",
              "The jupyter backends (activated via ``%matplotlib inline``,\n",
              "``%matplotlib notebook``, or ``%matplotlib widget``), call ``show()`` at\n",
              "the end of every cell by default. Thus, you usually don&#x27;t have to call it\n",
              "explicitly there.</pre>\n",
              "      <script>\n",
              "      if (google.colab.kernel.accessAllowed && google.colab.files && google.colab.files.view) {\n",
              "        for (const element of document.querySelectorAll('.filepath')) {\n",
              "          element.style.display = 'block'\n",
              "          element.onclick = (event) => {\n",
              "            event.preventDefault();\n",
              "            event.stopPropagation();\n",
              "            google.colab.files.view(element.textContent, 401);\n",
              "          };\n",
              "        }\n",
              "      }\n",
              "      for (const element of document.querySelectorAll('.function-repr-contents')) {\n",
              "        element.onclick = (event) => {\n",
              "          event.preventDefault();\n",
              "          event.stopPropagation();\n",
              "          element.classList.toggle('function-repr-contents-collapsed');\n",
              "        };\n",
              "      }\n",
              "      </script>\n",
              "      </div>"
            ]
          },
          "metadata": {},
          "execution_count": 194
        },
        {
          "output_type": "display_data",
          "data": {
            "text/plain": [
              "<Figure size 640x480 with 1 Axes>"
            ],
            "image/png": "[encoded data removed]"
          },
          "metadata": {}
        }
      ]
    },
    {
      "cell_type": "code",
      "source": [
        "test_data.shape"
      ],
      "metadata": {
        "colab": {
          "base_uri": "https://localhost:8080/"
        },
        "id": "reRFGk6f6_TO",
        "outputId": "08f571d3-fe65-4d80-cf32-fb5a59de0053"
      },
      "execution_count": 196,
      "outputs": [
        {
          "output_type": "execute_result",
          "data": {
            "text/plain": [
              "(18, 6)"
            ]
          },
          "metadata": {},
          "execution_count": 196
        }
      ]
    },
    {
      "cell_type": "code",
      "source": [
        "X.shape"
      ],
      "metadata": {
        "colab": {
          "base_uri": "https://localhost:8080/"
        },
        "id": "0YOb72aU7hSS",
        "outputId": "4cb6c36c-31ec-43f3-e7c5-fae49af9f6a2"
      },
      "execution_count": 203,
      "outputs": [
        {
          "output_type": "execute_result",
          "data": {
            "text/plain": [
              "(100, 10)"
            ]
          },
          "metadata": {},
          "execution_count": 203
        }
      ]
    },
    {
      "cell_type": "code",
      "source": [
        "test_data.shape"
      ],
      "metadata": {
        "colab": {
          "base_uri": "https://localhost:8080/"
        },
        "id": "b_tI2ZIv7djf",
        "outputId": "4afd2dd7-84d6-4f15-d9c2-de556ca134be"
      },
      "execution_count": 205,
      "outputs": [
        {
          "output_type": "execute_result",
          "data": {
            "text/plain": [
              "(18, 6)"
            ]
          },
          "metadata": {},
          "execution_count": 205
        }
      ]
    },
    {
      "cell_type": "code",
      "source": [
        "test_labels"
      ],
      "metadata": {
        "colab": {
          "base_uri": "https://localhost:8080/"
        },
        "id": "ApMeOSQZ8N8L",
        "outputId": "0e5310ac-bab7-4381-da1f-475fee25a38a"
      },
      "execution_count": 211,
      "outputs": [
        {
          "output_type": "execute_result",
          "data": {
            "text/plain": [
              "array([5., 5., 3., 0., 4., 1., 3., 0., 4., 1., 0., 1., 3., 5., 1., 4., 5.,\n",
              "       5.])"
            ]
          },
          "metadata": {},
          "execution_count": 211
        }
      ]
    },
    {
      "cell_type": "code",
      "source": [
        "data_show = np.zeros(2)\n",
        "data_show.shape"
      ],
      "metadata": {
        "colab": {
          "base_uri": "https://localhost:8080/"
        },
        "id": "Wu1_7INe_CYX",
        "outputId": "b7672e7f-012f-43ec-8ed9-44df256b9c6e"
      },
      "execution_count": 221,
      "outputs": [
        {
          "output_type": "execute_result",
          "data": {
            "text/plain": [
              "(2,)"
            ]
          },
          "metadata": {},
          "execution_count": 221
        }
      ]
    },
    {
      "cell_type": "code",
      "source": [
        "from sklearn.svm import SVC\n",
        "\n",
        "X_train, X_test, y_train, y_test = train_test_split(data_qiyu, label_qiyu, test_size=0.7, random_state=42)\n",
        "\n",
        "# 创建一个SVM分类器\n",
        "svm_clf_2 = SVC(kernel=\"linear\")\n",
        "svm_clf_2.fit(train_data, train_labels)\n",
        "predictions_svm = svm_clf_2.predict(test_data)\n",
        "acc = accuracy_score(test_labels, predictions_svm)\n",
        "print(acc)\n",
        "\n"
      ],
      "metadata": {
        "colab": {
          "base_uri": "https://localhost:8080/"
        },
        "id": "LVGn0dPq_kSL",
        "outputId": "1f5517e9-4db0-41e0-e063-cf08c29477f1"
      },
      "execution_count": 240,
      "outputs": [
        {
          "output_type": "stream",
          "name": "stdout",
          "text": [
            "1.0\n"
          ]
        }
      ]
    },
    {
      "cell_type": "code",
      "source": [
        "predictions_svm"
      ],
      "metadata": {
        "colab": {
          "base_uri": "https://localhost:8080/"
        },
        "id": "-3ipOv_CA3Gt",
        "outputId": "073bd5cb-a175-4dff-8ba8-e567e8ce5662"
      },
      "execution_count": 241,
      "outputs": [
        {
          "output_type": "execute_result",
          "data": {
            "text/plain": [
              "array([5., 5., 3., 0., 4., 1., 3., 0., 4., 1., 0., 1., 3., 5., 1., 4., 5.,\n",
              "       5.])"
            ]
          },
          "metadata": {},
          "execution_count": 241
        }
      ]
    },
    {
      "cell_type": "code",
      "source": [
        "test_labels"
      ],
      "metadata": {
        "colab": {
          "base_uri": "https://localhost:8080/"
        },
        "id": "-fY14bSjA7E5",
        "outputId": "e90ba903-0b73-4094-942a-78b5787738f0"
      },
      "execution_count": 242,
      "outputs": [
        {
          "output_type": "execute_result",
          "data": {
            "text/plain": [
              "array([5., 5., 3., 0., 4., 1., 3., 0., 4., 1., 0., 1., 3., 5., 1., 4., 5.,\n",
              "       5.])"
            ]
          },
          "metadata": {},
          "execution_count": 242
        }
      ]
    },
    {
      "cell_type": "code",
      "source": [
        "report = classification_report(test_labels, predictions_svm)\n",
        "\n",
        "# 打印评价报告\n",
        "print(report)\n",
        "print(confusion_matrix(test_labels, predictions_svm))\n",
        "print(f\"0:{all_type[0]} 1:{all_type[1]} 2:{all_type[2]} 3:{all_type[3]} 4:{all_type[4]} 5:{all_type[5]}\")"
      ],
      "metadata": {
        "colab": {
          "base_uri": "https://localhost:8080/"
        },
        "id": "q_n3YyK_ALib",
        "outputId": "01a03ae6-41eb-428a-c9d0-542cc51eca89"
      },
      "execution_count": 230,
      "outputs": [
        {
          "output_type": "stream",
          "name": "stdout",
          "text": [
            "              precision    recall  f1-score   support\n",
            "\n",
            "         0.0       1.00      1.00      1.00         3\n",
            "         1.0       1.00      1.00      1.00         4\n",
            "         3.0       1.00      1.00      1.00         3\n",
            "         4.0       1.00      1.00      1.00         3\n",
            "         5.0       1.00      1.00      1.00         5\n",
            "\n",
            "    accuracy                           1.00        18\n",
            "   macro avg       1.00      1.00      1.00        18\n",
            "weighted avg       1.00      1.00      1.00        18\n",
            "\n",
            "[[3 0 0 0 0]\n",
            " [0 4 0 0 0]\n",
            " [0 0 3 0 0]\n",
            " [0 0 0 3 0]\n",
            " [0 0 0 0 5]]\n",
            "0:jueyuan 1:wuquexian 2:shuizhu 3:bandaoti 4:qixi 5:qipao\n"
          ]
        }
      ]
    },
    {
      "cell_type": "code",
      "source": [
        "class_list = []\n",
        "\n",
        "for lb in range(6):\n",
        "    flag = 0\n",
        "    count = 0\n",
        "    data_show = np.zeros(2)\n",
        "\n",
        "for i in range(len(X)):\n",
        "    if test_labels[i] == i:\n",
        "        if flag == 0:\n",
        "            flag = 1\n",
        "            data_show = X_embedded[count]\n",
        "\n",
        "        if flag == 1:\n",
        "            data_show = np.concatenate((data_show, X_embedded[count]), axis=0)\n",
        "        count += 1\n",
        "    print(data_show.shape)\n",
        "    plt.scatter(data_show[:, 0], data_show[:, 1])\n",
        "\n",
        "plt.show()\n",
        "\n",
        ""
      ],
      "metadata": {
        "colab": {
          "base_uri": "https://localhost:8080/",
          "height": 233
        },
        "id": "TctuUmbW8SY2",
        "outputId": "21571b75-52c0-47cd-e41b-0055ce8d6a0c"
      },
      "execution_count": 223,
      "outputs": [
        {
          "output_type": "stream",
          "name": "stdout",
          "text": [
            "(2,)\n"
          ]
        },
        {
          "output_type": "error",
          "ename": "IndexError",
          "evalue": "too many indices for array: array is 1-dimensional, but 2 were indexed",
          "traceback": [
            "\u001b[0;31m---------------------------------------------------------------------------\u001b[0m",
            "\u001b[0;31mIndexError\u001b[0m                                Traceback (most recent call last)",
            "\u001b[0;32m<ipython-input-223-c42180151fe7>\u001b[0m in \u001b[0;36m<cell line: 8>\u001b[0;34m()\u001b[0m\n\u001b[1;32m     16\u001b[0m         \u001b[0mcount\u001b[0m \u001b[0;34m+=\u001b[0m \u001b[0;36m1\u001b[0m\u001b[0;34m\u001b[0m\u001b[0;34m\u001b[0m\u001b[0m\n\u001b[1;32m     17\u001b[0m     \u001b[0mprint\u001b[0m\u001b[0;34m(\u001b[0m\u001b[0mdata_show\u001b[0m\u001b[0;34m.\u001b[0m\u001b[0mshape\u001b[0m\u001b[0;34m)\u001b[0m\u001b[0;34m\u001b[0m\u001b[0;34m\u001b[0m\u001b[0m\n\u001b[0;32m---> 18\u001b[0;31m     \u001b[0mplt\u001b[0m\u001b[0;34m.\u001b[0m\u001b[0mscatter\u001b[0m\u001b[0;34m(\u001b[0m\u001b[0mdata_show\u001b[0m\u001b[0;34m[\u001b[0m\u001b[0;34m:\u001b[0m\u001b[0;34m,\u001b[0m \u001b[0;36m0\u001b[0m\u001b[0;34m]\u001b[0m\u001b[0;34m,\u001b[0m \u001b[0mdata_show\u001b[0m\u001b[0;34m[\u001b[0m\u001b[0;34m:\u001b[0m\u001b[0;34m,\u001b[0m \u001b[0;36m1\u001b[0m\u001b[0;34m]\u001b[0m\u001b[0;34m)\u001b[0m\u001b[0;34m\u001b[0m\u001b[0;34m\u001b[0m\u001b[0m\n\u001b[0m\u001b[1;32m     19\u001b[0m \u001b[0;34m\u001b[0m\u001b[0m\n\u001b[1;32m     20\u001b[0m \u001b[0mplt\u001b[0m\u001b[0;34m.\u001b[0m\u001b[0mshow\u001b[0m\u001b[0;34m(\u001b[0m\u001b[0;34m)\u001b[0m\u001b[0;34m\u001b[0m\u001b[0;34m\u001b[0m\u001b[0m\n",
            "\u001b[0;31mIndexError\u001b[0m: too many indices for array: array is 1-dimensional, but 2 were indexed"
          ]
        }
      ]
    },
    {
      "cell_type": "code",
      "source": [
        "from sklearn.manifold import TSNE\n",
        "tsne = TSNE(n_components=2, random_state=42, perplexity=5)\n",
        "X = test_data\n",
        "\n",
        "for i in range(len(X)):\n",
        "    if test_labels[i] == 0:\n",
        "\n",
        "\n",
        "\n",
        "# 使用t-SNE进行降维\n",
        "X_embedded = tsne.fit_transform(X)\n",
        "\n",
        "# 可视化降维后的数据\n",
        "plt.scatter(X_embedded[:, 0], X_embedded[:, 1],)\n",
        "plt.title('t-SNE Visualization')\n",
        "plt.xlabel('Dimension 1')\n",
        "plt.ylabel('Dimension 2')\n",
        "plt.show()"
      ],
      "metadata": {
        "colab": {
          "base_uri": "https://localhost:8080/",
          "height": 472
        },
        "id": "Qs_cgEYZ6Zx1",
        "outputId": "39c6a67c-8778-4249-8221-67f7d7b9db63"
      },
      "execution_count": 209,
      "outputs": [
        {
          "output_type": "display_data",
          "data": {
            "text/plain": [
              "<Figure size 640x480 with 1 Axes>"
            ],
            "image/png": "[encoded data removed]"
          },
          "metadata": {}
        }
      ]
    }
  ]
}