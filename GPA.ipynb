{
  "nbformat": 4,
  "nbformat_minor": 0,
  "metadata": {
    "colab": {
      "provenance": [],
      "mount_file_id": "1-iLQ14kC6ceme421BKubHfRfJlhB0VX6",
      "authorship_tag": "ABX9TyM5Q4SN0EbrtpzHzJ1o7VUV",
      "include_colab_link": true
    },
    "kernelspec": {
      "name": "python3",
      "display_name": "Python 3"
    },
    "language_info": {
      "name": "python"
    }
  },
  "cells": [
    {
      "cell_type": "markdown",
      "metadata": {
        "id": "view-in-github",
        "colab_type": "text"
      },
      "source": [
        "<a href=\"https://colab.research.google.com/github/LeeYuuuan/yuanyuansrep/blob/main/GPA.ipynb\" target=\"_parent\"><img src=\"https://colab.research.google.com/assets/colab-badge.svg\" alt=\"Open In Colab\"/></a>"
      ]
    },
    {
      "cell_type": "code",
      "execution_count": null,
      "metadata": {
        "id": "tTGm3JyUWxXv"
      },
      "outputs": [],
      "source": [
        "\"\"\"\n",
        "calculate GPA for Xi'an University of Technology(Bechelor, 5.0-mark)\n",
        "\"\"\"\n",
        "\n",
        "class Course:\n",
        "    def __init__(self, name, credits, grade):\n",
        "        self.name = name\n",
        "        self.credits = credits\n",
        "        self.grade = grade\n",
        "        self.gp = self.cal_gp(self)\n",
        "\n",
        "    @staticmethod\n",
        "    def cal_gp(self):\n",
        "        if self.grade >= 95:\n",
        "            gp = 5.0\n",
        "        elif self.grade >= 85:\n",
        "            gp = (self.grade - 84)/10 + 4.0\n",
        "        elif self.grade >= 75:\n",
        "            gp = (self.grade - 74)/10 + 3.0\n",
        "        elif self.grade >= 65:\n",
        "            gp = (self.grade - 64)/10 + 2.0\n",
        "        elif self.grade >= 55:\n",
        "            gp = (self.grade - 54)/10 + 1.0\n",
        "        else:\n",
        "            gp = 0\n",
        "        return gp\n",
        "\n",
        "    def get_grade(self):\n",
        "        return self.grade\n",
        "\n",
        "    def get_credits(self):\n",
        "        return self.credits\n",
        "\n",
        "    def get_name(self):\n",
        "        return self.name\n",
        "\n",
        "\n",
        "class CourseTable:\n",
        "    def __init__(self):\n",
        "        self.courses = []\n",
        "        self.gpa = 0\n",
        "        self.credits = 0\n",
        "\n",
        "    def add_course(self, course):\n",
        "        self.courses.append(course)\n",
        "\n",
        "    def get_courses(self):\n",
        "        return self.courses\n",
        "\n",
        "    def calculate_gpa(self):\n",
        "        gpa = 0\n",
        "        credits = 0\n",
        "        for course in self.courses:\n",
        "            gpa += course.gp * course.credits\n",
        "            credits += course.credits\n",
        "        self.gpa = gpa / credits\n",
        "\n",
        "    def get_gpa(self):\n",
        "        self.gpa = 0\n",
        "        self.calculate_gpa()\n",
        "        return self.gpa\n",
        "\n",
        "    def get_avg_grade(self):\n",
        "        avg_grade = 0\n",
        "        for course in self.courses:\n",
        "            avg_grade += course.get_grade()\n",
        "        return avg_grade / len(self.courses)\n",
        "\n",
        "    def add_course_from_txt(self, txt):\n",
        "        with open(txt, 'r') as f:\n",
        "            for line in f.readlines():\n",
        "                temp = line.split(',')\n",
        "                name = temp[0]\n",
        "                credits = float(temp[1])\n",
        "                grade = float(temp[2])\n",
        "                self.add_course(Course(name, credits, grade))\n",
        "\n",
        "\n",
        "def input_course():\n",
        "    name = input(\"name: \")\n",
        "    credits = int(input(\"credits: \"))\n",
        "    grade = float(input(\"grade: \"))\n",
        "    return Course(name, credits, grade)\n",
        "\n",
        "\n",
        "\n"
      ]
    },
    {
      "cell_type": "code",
      "source": [],
      "metadata": {
        "id": "y-azqB7HNGtw"
      },
      "execution_count": null,
      "outputs": []
    },
    {
      "cell_type": "code",
      "source": [
        "float(\"name, 1, 80\".split(',')[1])"
      ],
      "metadata": {
        "colab": {
          "base_uri": "https://localhost:8080/"
        },
        "id": "8JE6IPpaKunx",
        "outputId": "98861ed3-7065-4227-9250-6b1ac64f13d2"
      },
      "execution_count": null,
      "outputs": [
        {
          "output_type": "execute_result",
          "data": {
            "text/plain": [
              "1.0"
            ]
          },
          "metadata": {},
          "execution_count": 15
        }
      ]
    },
    {
      "cell_type": "markdown",
      "source": [
        "#start\n"
      ],
      "metadata": {
        "id": "fu16v4ynNF2t"
      }
    },
    {
      "cell_type": "code",
      "source": [
        "ct = CourseTable()\n"
      ],
      "metadata": {
        "id": "q30r0tbrY6UQ"
      },
      "execution_count": null,
      "outputs": []
    },
    {
      "cell_type": "code",
      "source": [
        "ct.add_course_from_txt(\"course.txt\")"
      ],
      "metadata": {
        "id": "FB5rNxQ_ax5v"
      },
      "execution_count": null,
      "outputs": []
    },
    {
      "cell_type": "code",
      "source": [],
      "metadata": {
        "colab": {
          "base_uri": "https://localhost:8080/"
        },
        "id": "pOyNCZKebYV_",
        "outputId": "77373830-ab76-4eff-b8a1-44b8b7b46109"
      },
      "execution_count": null,
      "outputs": [
        {
          "output_type": "execute_result",
          "data": {
            "text/plain": [
              "76.46031746031746"
            ]
          },
          "metadata": {},
          "execution_count": 57
        }
      ]
    },
    {
      "cell_type": "code",
      "source": [
        "ct.get_gpa()"
      ],
      "metadata": {
        "colab": {
          "base_uri": "https://localhost:8080/"
        },
        "id": "fvBdY02oBrS6",
        "outputId": "de8641d4-65fe-4fc1-a760-878299bfab1a"
      },
      "execution_count": null,
      "outputs": [
        {
          "output_type": "execute_result",
          "data": {
            "text/plain": [
              "3.219756838905776"
            ]
          },
          "metadata": {},
          "execution_count": 58
        }
      ]
    }
  ]
}