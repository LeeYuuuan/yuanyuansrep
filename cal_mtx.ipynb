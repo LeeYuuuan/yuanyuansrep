{
  "nbformat": 4,
  "nbformat_minor": 0,
  "metadata": {
    "colab": {
      "provenance": [],
      "authorship_tag": "ABX9TyMqa2J3hnhMTyouN5UxJ+N4",
      "include_colab_link": true
    },
    "kernelspec": {
      "name": "python3",
      "display_name": "Python 3"
    },
    "language_info": {
      "name": "python"
    }
  },
  "cells": [
    {
      "cell_type": "markdown",
      "metadata": {
        "id": "view-in-github",
        "colab_type": "text"
      },
      "source": [
        "<a href=\"https://colab.research.google.com/github/LeeYuuuan/yuanyuansrep/blob/main/cal_mtx.ipynb\" target=\"_parent\"><img src=\"https://colab.research.google.com/assets/colab-badge.svg\" alt=\"Open In Colab\"/></a>"
      ]
    },
    {
      "cell_type": "code",
      "execution_count": null,
      "metadata": {
        "id": "BWUf3fAOaEDj"
      },
      "outputs": [],
      "source": [
        "d1 = []\n",
        "d2 = []\n",
        "d3 = []\n",
        "\n",
        "with open('data.txt', 'r') as f:\n",
        "    data = f.readlines()\n",
        "    i = 0\n",
        "    temp_data_1 = []\n",
        "    temp_data_2 = []\n",
        "    temp_data_3 = []\n",
        "\n",
        "    while i < len(data):\n",
        "\n",
        "        if data[i]!= \"\\n\":\n",
        "            temp = data[i][1:-2].split(\"，\")\n",
        "            temp_data_1.append(float(temp[0]))\n",
        "            temp_data_2.append(float(temp[1]))\n",
        "            # print(float(temp[2]))\n",
        "            temp_data_3.append(float(temp[2]))\n",
        "            # print(i)\n",
        "        else:\n",
        "            d1.append(temp_data_1)\n",
        "            d2.append(temp_data_2)\n",
        "            d3.append(temp_data_3)\n",
        "            temp_data_1 = []\n",
        "            temp_data_2 = []\n",
        "            temp_data_3 = []\n",
        "        i+=1\n",
        "\n",
        "\n",
        "    # print(data[0][1:-2].split(\",\"))"
      ]
    },
    {
      "cell_type": "code",
      "source": [
        "with open('data.txt', 'r') as f:\n",
        "    data = f.readlines()\n",
        "    print(len(data))"
      ],
      "metadata": {
        "colab": {
          "base_uri": "https://localhost:8080/"
        },
        "id": "Qdke3nqpbIhB",
        "outputId": "29d05071-c187-4a5e-deec-ad1b2a9706e4"
      },
      "execution_count": null,
      "outputs": [
        {
          "output_type": "stream",
          "name": "stdout",
          "text": [
            "42\n"
          ]
        }
      ]
    },
    {
      "cell_type": "markdown",
      "source": [
        "### add data"
      ],
      "metadata": {
        "id": "n3IuYRJjhHBp"
      }
    },
    {
      "cell_type": "code",
      "source": [
        "import numpy as np\n",
        "mtx = []\n",
        "\n",
        "with open(\"data.txt\", 'r') as f:\n",
        "    i = 0\n",
        "    data = f.readlines()\n",
        "    temp_data = []\n",
        "    while i < 4:\n",
        "        for j in range(4):\n",
        "            temp_1 = data[i].split(\"，\")\n",
        "            temp_2 = data[i + 5].split(\"，\")\n",
        "            temp_3 = data[i + 10].split(\"，\")\n",
        "            temp_data.append((float(temp_1[j]), float(temp_2[j]), float(temp_3[j])))\n",
        "\n",
        "        mtx.append(temp_data)\n",
        "        temp_data = []\n",
        "\n",
        "        i+=1\n",
        "\n"
      ],
      "metadata": {
        "id": "pSWG3r3xhJTb"
      },
      "execution_count": null,
      "outputs": []
    },
    {
      "cell_type": "code",
      "source": [
        "def calculate_P(ai, aj):\n",
        "    \"\"\"calculate P(ai > aj)\n",
        "    \"\"\"\n",
        "    if ai[1] >= aj[1]:\n",
        "        return 1\n",
        "\n",
        "    if ai[1] < aj[1] and ai[2] > aj[0]:\n",
        "        return (aj[0] - ai[2]) / ((ai[1] - ai[2]) - (aj[1] - aj[0]))\n",
        "    else:\n",
        "        return 0\n"
      ],
      "metadata": {
        "id": "UfihVsbQ2Nma"
      },
      "execution_count": null,
      "outputs": []
    },
    {
      "cell_type": "code",
      "source": [
        "def calculate_P(ai, aj):\n",
        "    \"\"\"calculate P(ai > aj)\n",
        "    \"\"\"\n",
        "    if ((ai[1] - ai[0]) + (aj[1] - aj[0])) == 0:\n",
        "        return 1\n",
        "    return min(max((ai[1] - aj[0]) / ((ai[1] - ai[0]) + (aj[1] - aj[0])), 0), 1)\n"
      ],
      "metadata": {
        "id": "EAwUacjRIfz6"
      },
      "execution_count": null,
      "outputs": []
    },
    {
      "cell_type": "code",
      "source": [],
      "metadata": {
        "colab": {
          "base_uri": "https://localhost:8080/"
        },
        "id": "bO8d0StmJvPl",
        "outputId": "e785d310-1c6a-42de-af1f-8f6153469aa8"
      },
      "execution_count": null,
      "outputs": [
        {
          "output_type": "execute_result",
          "data": {
            "text/plain": [
              "1"
            ]
          },
          "metadata": {},
          "execution_count": 71
        }
      ]
    },
    {
      "cell_type": "code",
      "source": [
        "import numpy as np\n",
        "\n",
        "def calculate_P_mtx(a):\n",
        "    size_p = len(a)\n",
        "    P_mtx = np.zeros([size_p,size_p])\n",
        "    for j in range(size_p):\n",
        "        for k in range(size_p):\n",
        "            value = 0\n",
        "            for i in range(size_p):\n",
        "                value += calculate_P(a[i][j], a[i][k])\n",
        "            P_mtx[j, k] = value / size_p\n",
        "    return P_mtx\n",
        "\n",
        "def calculate_w(mtx):\n",
        "    sum_all = 0\n",
        "    size_p = len(mtx)\n",
        "    for i in range(size_p):\n",
        "        for j in range(size_p):\n",
        "            sum_all += mtx[i][j]\n",
        "    sum_all = sum_all - size_p\n",
        "    wj = []\n",
        "    for j in range(size_p):\n",
        "        sum_temp = 0\n",
        "        for k in range(size_p):\n",
        "            if k != j:\n",
        "                sum_temp += mtx[j][k]\n",
        "        wj.append(sum_temp)\n",
        "    return wj/sum_all"
      ],
      "metadata": {
        "id": "CNnjLcyTrton"
      },
      "execution_count": null,
      "outputs": []
    },
    {
      "cell_type": "code",
      "source": [
        "mtx"
      ],
      "metadata": {
        "colab": {
          "base_uri": "https://localhost:8080/"
        },
        "id": "qGlqleJNvScv",
        "outputId": "d0891a67-5f24-4e53-d4d1-e6156099be4a"
      },
      "execution_count": null,
      "outputs": [
        {
          "output_type": "execute_result",
          "data": {
            "text/plain": [
              "[[(1.0, 1.0, 1.0), (7.2, 8.2, 9.2), (0.4, 1.4, 2.4), (0.8, 1.8, 2.8)],\n",
              " [(7.2, 8.2, 9.2), (1.0, 1.0, 1.0), (0.8, 1.8, 2.8), (1.6, 2.6, 3.6)],\n",
              " [(0.0, 1.0, 2.0), (0.4, 1.4, 2.4), (1.0, 1.0, 1.0), (4.0, 5.0, 6.0)],\n",
              " [(0.0, 1.0, 2.0), (0.2, 1.2, 2.2), (0.8, 1.8, 2.8), (1.0, 1.0, 1.0)]]"
            ]
          },
          "metadata": {},
          "execution_count": 58
        }
      ]
    },
    {
      "cell_type": "code",
      "source": [],
      "metadata": {
        "id": "34bm6ZkN60VW"
      },
      "execution_count": null,
      "outputs": []
    },
    {
      "cell_type": "code",
      "source": [
        "calculate_P(mtx[2][0], mtx[2][0])"
      ],
      "metadata": {
        "colab": {
          "base_uri": "https://localhost:8080/"
        },
        "id": "OiYgBZ0_5xcU",
        "outputId": "8c0de8a9-dcf5-480e-de4e-5e3d59fe7e20"
      },
      "execution_count": null,
      "outputs": [
        {
          "output_type": "execute_result",
          "data": {
            "text/plain": [
              "1"
            ]
          },
          "metadata": {},
          "execution_count": 52
        }
      ]
    },
    {
      "cell_type": "code",
      "source": [
        "P_mtx = calculate_P_mtx(mtx)"
      ],
      "metadata": {
        "id": "qx_Z14dyAG_X"
      },
      "execution_count": null,
      "outputs": []
    },
    {
      "cell_type": "code",
      "source": [
        "P_mtx"
      ],
      "metadata": {
        "colab": {
          "base_uri": "https://localhost:8080/"
        },
        "id": "nsA608Y5AalX",
        "outputId": "07cdac7b-d290-4765-fdfd-bea42acf29d3"
      },
      "execution_count": null,
      "outputs": [
        {
          "output_type": "execute_result",
          "data": {
            "text/plain": [
              "array([[0.625, 0.425, 0.425, 0.3  ],\n",
              "       [0.575, 0.625, 0.45 , 0.3  ],\n",
              "       [0.575, 0.55 , 0.625, 0.3  ],\n",
              "       [0.7  , 0.7  , 0.7  , 0.625]])"
            ]
          },
          "metadata": {},
          "execution_count": 67
        }
      ]
    },
    {
      "cell_type": "code",
      "source": [
        "calculate_w(P_mtx)"
      ],
      "metadata": {
        "colab": {
          "base_uri": "https://localhost:8080/"
        },
        "id": "xdOXCFmNu677",
        "outputId": "c5f457d9-d348-4e16-b99e-35564f0dc771"
      },
      "execution_count": null,
      "outputs": [
        {
          "output_type": "execute_result",
          "data": {
            "text/plain": [
              "array([0.47647059, 0.46470588, 0.47058824, 0.52941176])"
            ]
          },
          "metadata": {},
          "execution_count": 55
        }
      ]
    },
    {
      "cell_type": "code",
      "source": [
        "mtx_inv = []\n",
        "for i in range(len(mtx)):\n",
        "    inv_row = []\n",
        "    for j in range(len(mtx[0])):\n",
        "        inv_row.append(mtx[j][i])\n",
        "    mtx_inv.append(inv_row)\n",
        "mtx_inv"
      ],
      "metadata": {
        "id": "vMgaAsTL7Skj",
        "outputId": "59aa6b54-4b89-4d48-9911-16f3478e01de",
        "colab": {
          "base_uri": "https://localhost:8080/"
        }
      },
      "execution_count": null,
      "outputs": [
        {
          "output_type": "execute_result",
          "data": {
            "text/plain": [
              "[[(1.0, 1.0, 1.0), (7.2, 8.2, 9.2), (0.0, 1.0, 2.0), (0.0, 1.0, 2.0)],\n",
              " [(7.2, 8.2, 9.2), (1.0, 1.0, 1.0), (0.4, 1.4, 2.4), (0.2, 1.2, 2.2)],\n",
              " [(0.4, 1.4, 2.4), (0.8, 1.8, 2.8), (1.0, 1.0, 1.0), (0.8, 1.8, 2.8)],\n",
              " [(0.8, 1.8, 2.8), (1.6, 2.6, 3.6), (4.0, 5.0, 6.0), (1.0, 1.0, 1.0)]]"
            ]
          },
          "metadata": {},
          "execution_count": 74
        }
      ]
    },
    {
      "cell_type": "code",
      "source": [
        "P_mtx_inv = calculate_P_mtx(mtx_inv)\n",
        "P_mtx_inv"
      ],
      "metadata": {
        "id": "OH67RvVE7TiP",
        "outputId": "dcce313a-2e55-44f5-941d-1555fcfe209b",
        "colab": {
          "base_uri": "https://localhost:8080/"
        }
      },
      "execution_count": null,
      "outputs": [
        {
          "output_type": "execute_result",
          "data": {
            "text/plain": [
              "array([[1.   , 0.6  , 0.75 , 0.95 ],\n",
              "       [0.75 , 1.   , 0.65 , 0.95 ],\n",
              "       [0.65 , 0.55 , 1.   , 0.8  ],\n",
              "       [0.55 , 0.5  , 0.725, 1.   ]])"
            ]
          },
          "metadata": {},
          "execution_count": 75
        }
      ]
    },
    {
      "cell_type": "code",
      "source": [
        "calculate_w(P_mtx_inv)"
      ],
      "metadata": {
        "id": "jxBXne977Wlj",
        "outputId": "e7d574d1-4926-455e-ce94-531cf621b9cd",
        "colab": {
          "base_uri": "https://localhost:8080/"
        }
      },
      "execution_count": null,
      "outputs": [
        {
          "output_type": "execute_result",
          "data": {
            "text/plain": [
              "array([0.27299703, 0.27893175, 0.23738872, 0.21068249])"
            ]
          },
          "metadata": {},
          "execution_count": 76
        }
      ]
    },
    {
      "cell_type": "code",
      "source": [
        "sum_all = 0\n",
        "size_p = 4\n",
        "for i in range(size_p):\n",
        "    for j in range(size_p):\n",
        "        sum_all += P_mtx[i][j]\n",
        "sum_all = sum_all - size_p"
      ],
      "metadata": {
        "id": "tX0YoQztAdBk"
      },
      "execution_count": null,
      "outputs": []
    },
    {
      "cell_type": "code",
      "source": [
        "sum_all"
      ],
      "metadata": {
        "colab": {
          "base_uri": "https://localhost:8080/"
        },
        "id": "zR094yyIsQBd",
        "outputId": "436a8910-db15-43d0-c788-681570e84c5d"
      },
      "execution_count": null,
      "outputs": [
        {
          "output_type": "execute_result",
          "data": {
            "text/plain": [
              "8.25"
            ]
          },
          "metadata": {},
          "execution_count": 10
        }
      ]
    },
    {
      "cell_type": "code",
      "source": [
        "wj = []\n",
        "for j in range(size_p):\n",
        "    sum_temp = 0\n",
        "    for k in range(size_p):\n",
        "        if k != j:\n",
        "            sum_temp += P_mtx[j][k]\n",
        "    wj.append(sum_temp)\n",
        "wj/sum_all"
      ],
      "metadata": {
        "colab": {
          "base_uri": "https://localhost:8080/"
        },
        "id": "Q1WTNclEAtre",
        "outputId": "b0e19cb4-7709-418f-ddb2-8f2e4a2401a7"
      },
      "execution_count": null,
      "outputs": [
        {
          "output_type": "execute_result",
          "data": {
            "text/plain": [
              "array([0.24545455, 0.23939394, 0.24242424, 0.27272727])"
            ]
          },
          "metadata": {},
          "execution_count": 11
        }
      ]
    },
    {
      "cell_type": "markdown",
      "source": [
        "### end"
      ],
      "metadata": {
        "id": "Dj0f_fR-AdUV"
      }
    },
    {
      "cell_type": "code",
      "source": [
        "p1 = []\n",
        "i = 0\n",
        "with open(\"data1.txt\", 'r') as f:\n",
        "    data_1 = f.readlines()\n",
        "\n",
        "    while i < len(data_1):\n",
        "        p1_row = []\n",
        "        for j in range(len(data_1)):\n",
        "            p1_row.append(float(data_1[i].split(\" \")[j]))\n",
        "        i += 1\n",
        "        p1.append(p1_row)\n",
        "        p1_row = []\n",
        "p1 = np.array(p1)"
      ],
      "metadata": {
        "id": "vwz9R8hPtuAH"
      },
      "execution_count": null,
      "outputs": []
    },
    {
      "cell_type": "code",
      "source": [
        "p1"
      ],
      "metadata": {
        "colab": {
          "base_uri": "https://localhost:8080/"
        },
        "id": "IbiHe3Meuokp",
        "outputId": "d82adde6-e4db-41c9-8466-344069e94e6e"
      },
      "execution_count": null,
      "outputs": [
        {
          "output_type": "execute_result",
          "data": {
            "text/plain": [
              "array([[0.5  , 0.488, 0.513, 0.516, 0.505, 0.518],\n",
              "       [0.512, 0.5  , 0.488, 0.493, 0.508, 0.465],\n",
              "       [0.487, 0.512, 0.5  , 0.501, 0.504, 0.462],\n",
              "       [0.484, 0.507, 0.499, 0.5  , 0.51 , 0.507],\n",
              "       [0.495, 0.492, 0.496, 0.49 , 0.5  , 0.481],\n",
              "       [0.482, 0.535, 0.538, 0.493, 0.519, 0.5  ]])"
            ]
          },
          "metadata": {},
          "execution_count": 18
        }
      ]
    },
    {
      "cell_type": "code",
      "source": [
        "calculate_w(p1)"
      ],
      "metadata": {
        "colab": {
          "base_uri": "https://localhost:8080/"
        },
        "id": "21In9jUrupmx",
        "outputId": "ee855a32-8f9c-4abc-9881-2c15279825a4"
      },
      "execution_count": null,
      "outputs": [
        {
          "output_type": "execute_result",
          "data": {
            "text/plain": [
              "array([0.21166667, 0.2055    , 0.2055    , 0.20891667, 0.2045    ,\n",
              "       0.21391667])"
            ]
          },
          "metadata": {},
          "execution_count": 19
        }
      ]
    },
    {
      "cell_type": "code",
      "source": [
        "sumx_1 = 0\n",
        "for a in d1:\n",
        "    for data in a:\n",
        "        sumx_1 += data\n",
        "sumx = round(sumx, 2)\n",
        "sum_ai_1 = []\n",
        "for a in d1:\n",
        "    sum_ai_1.append(round(sum(a), 2))\n",
        "D1 = []\n",
        "for i in range(6):\n",
        "    D1.append(round(sum_ai[i]/ sumx_1, 6))\n",
        "D1"
      ],
      "metadata": {
        "colab": {
          "base_uri": "https://localhost:8080/"
        },
        "id": "GU8ygmEle5lA",
        "outputId": "b40e3334-d85a-4474-a533-6e26c1db89c0"
      },
      "execution_count": null,
      "outputs": [
        {
          "output_type": "execute_result",
          "data": {
            "text/plain": [
              "[0.135845, 0.168039, 0.173316, 0.284252, 0.120752, 0.117796]"
            ]
          },
          "metadata": {},
          "execution_count": 162
        }
      ]
    },
    {
      "cell_type": "code",
      "source": [
        "sumx_2 = 0\n",
        "for a in d2:\n",
        "    for data in a:\n",
        "        sumx_2 += data\n",
        "sum_ai_2 = []\n",
        "for a in d2:\n",
        "    sum_ai_2.append(round(sum(a), 2))\n",
        "D2 = []\n",
        "for i in range(6):\n",
        "    D2.append(round(sum_ai_2[i]/ sumx_2, 6))\n",
        "D2"
      ],
      "metadata": {
        "colab": {
          "base_uri": "https://localhost:8080/"
        },
        "id": "71DcEC-if3lu",
        "outputId": "ca5a433a-9224-4e90-c616-63ad21b30f39"
      },
      "execution_count": null,
      "outputs": [
        {
          "output_type": "execute_result",
          "data": {
            "text/plain": [
              "[0.143258, 0.167709, 0.171717, 0.255972, 0.131794, 0.129549]"
            ]
          },
          "metadata": {},
          "execution_count": 163
        }
      ]
    },
    {
      "cell_type": "code",
      "source": [
        "sum_3 = 0\n",
        "for a in d3:\n",
        "    for data in a:\n",
        "        sum_3 += data\n",
        "sum_ai_3 = []\n",
        "for a in d3:\n",
        "    sum_ai_3.append(round(sum(a), 2))\n",
        "D3 = []\n",
        "for i in range(6):\n",
        "    D3.append(round(sum_ai_3[i]/ sum_3, 6))\n",
        "D3"
      ],
      "metadata": {
        "colab": {
          "base_uri": "https://localhost:8080/"
        },
        "id": "eQth8UKlfoNn",
        "outputId": "9db57fc8-d896-475c-e3b1-78ab93efa386"
      },
      "execution_count": null,
      "outputs": [
        {
          "output_type": "execute_result",
          "data": {
            "text/plain": [
              "[0.147796, 0.167507, 0.170738, 0.238658, 0.138555, 0.136746]"
            ]
          },
          "metadata": {},
          "execution_count": 164
        }
      ]
    },
    {
      "cell_type": "code",
      "source": [
        "print(D1)\n",
        "print(D2)\n",
        "print(D3)"
      ],
      "metadata": {
        "colab": {
          "base_uri": "https://localhost:8080/"
        },
        "id": "u0sWUqFMgauI",
        "outputId": "34feb50e-38af-4c63-b89f-538161202501"
      },
      "execution_count": null,
      "outputs": [
        {
          "output_type": "stream",
          "name": "stdout",
          "text": [
            "[0.154, 0.19, 0.196, 0.322, 0.137, 0.134]\n",
            "[0.143, 0.168, 0.172, 0.256, 0.132, 0.13]\n",
            "[0.148, 0.168, 0.171, 0.239, 0.139, 0.137]\n"
          ]
        }
      ]
    },
    {
      "cell_type": "code",
      "source": [
        "D = []\n",
        "for i in range(6):\n",
        "    D.append((D1[i], D2[i], D3[i]))\n",
        "D"
      ],
      "metadata": {
        "colab": {
          "base_uri": "https://localhost:8080/"
        },
        "id": "E7DbI4JOhGJQ",
        "outputId": "9fbb23b4-a977-4e48-bd4e-0c2bd029a1ca"
      },
      "execution_count": null,
      "outputs": [
        {
          "output_type": "execute_result",
          "data": {
            "text/plain": [
              "[(0.135845, 0.143258, 0.147796),\n",
              " (0.168039, 0.167709, 0.167507),\n",
              " (0.173316, 0.171717, 0.170738),\n",
              " (0.284252, 0.255972, 0.238658),\n",
              " (0.120752, 0.131794, 0.138555),\n",
              " (0.117796, 0.129549, 0.136746)]"
            ]
          },
          "metadata": {},
          "execution_count": 165
        }
      ]
    },
    {
      "cell_type": "code",
      "source": [
        "def calculate_P(ai, aj):\n",
        "    \"\"\"calculate P(ai > aj)\n",
        "    \"\"\"\n",
        "    if ai[1] >= aj[1]:\n",
        "        return 1\n",
        "\n",
        "    if ai[1] < aj[1] and ai[2] > aj[0]:\n",
        "        return (aj[0] - ai[2]) / ((ai[1] - ai[2]) - (aj[1] - aj[0]))\n",
        "    else:\n",
        "        return 0\n",
        "\n"
      ],
      "metadata": {
        "id": "HKHWZf3EkuY7"
      },
      "execution_count": null,
      "outputs": []
    },
    {
      "cell_type": "code",
      "source": [
        "def calculate_P_ai_min(a, i):\n",
        "    \"\"\"calculate P(ai > a1, a2, ... ak)\n",
        "    \"\"\"\n",
        "    len_a = len(a)\n",
        "    P = []\n",
        "    for j in range(len_a):\n",
        "        value = calculate_P(a[i], a[j])\n",
        "        print(f\"{j} times: {value}\")\n",
        "        P.append(value)\n",
        "\n",
        "    return min(P)\n"
      ],
      "metadata": {
        "id": "53Mm1LMglZUz"
      },
      "execution_count": null,
      "outputs": []
    },
    {
      "cell_type": "code",
      "source": [
        "d1"
      ],
      "metadata": {
        "colab": {
          "base_uri": "https://localhost:8080/"
        },
        "id": "HfKR0S83FVdx",
        "outputId": "66717ea0-ac19-43c3-f5ec-057836bf8009"
      },
      "execution_count": null,
      "outputs": [
        {
          "output_type": "execute_result",
          "data": {
            "text/plain": [
              "[[1.0, 1.58, 2.14, 6.51, 0.82, 0.82],\n",
              " [0.2, 1.0, 7.36, 7.36, 0.0, 0.0],\n",
              " [0.7, 7.36, 1.0, 7.36, 0.0, 0.0],\n",
              " [7.31, 7.36, 7.36, 1.0, 1.95, 1.95],\n",
              " [0.82, 0.0, 0.0, 1.95, 1.0, 7.67],\n",
              " [0.82, 0.0, 0.0, 1.67, 7.67, 1.0]]"
            ]
          },
          "metadata": {},
          "execution_count": 264
        }
      ]
    },
    {
      "cell_type": "code",
      "source": [
        "or_mtx = []\n",
        "for j in range(6):\n",
        "    row = []\n",
        "    for i in range(6):\n",
        "\n",
        "        e1 = d1[i][j]\n",
        "        e2 = d2[i][j]\n",
        "        e3 = d3[i][j]\n",
        "        row.append((e1, e2, e3))\n",
        "    or_mtx.append(row)\n",
        "\n",
        "\n",
        "or_mtx"
      ],
      "metadata": {
        "id": "1JIxhBpGEsiw"
      },
      "execution_count": null,
      "outputs": []
    },
    {
      "cell_type": "code",
      "source": [],
      "metadata": {
        "colab": {
          "base_uri": "https://localhost:8080/"
        },
        "id": "msK8umukG4Kg",
        "outputId": "741778ea-71a4-4a8f-ded2-61c1e4089981"
      },
      "execution_count": null,
      "outputs": [
        {
          "output_type": "execute_result",
          "data": {
            "text/plain": [
              "(7.36, 8.36, 9.36)"
            ]
          },
          "metadata": {},
          "execution_count": 270
        }
      ]
    },
    {
      "cell_type": "code",
      "source": [
        "import numpy as np\n",
        "\n",
        "def calculate_P_mtx(a):\n",
        "    size_p = len(a)\n",
        "    P_mtx = np.zeros([size_p,size_p])\n",
        "    for j in range(size_p):\n",
        "        for k in range(size_p):\n",
        "            value = 0\n",
        "            for i in range(size_p):\n",
        "                value += calculate_P(a[i][j], a[i][k])\n",
        "            P_mtx[j, k] = value / size_p\n",
        "    return P_mtx"
      ],
      "metadata": {
        "id": "s-4aaRNj_pxV"
      },
      "execution_count": null,
      "outputs": []
    },
    {
      "cell_type": "code",
      "source": [
        "P_mtx = calculate_P_mtx(or_mtx)"
      ],
      "metadata": {
        "id": "fsdTLlZJEVPW"
      },
      "execution_count": null,
      "outputs": []
    },
    {
      "cell_type": "code",
      "source": [
        "P_mtx"
      ],
      "metadata": {
        "colab": {
          "base_uri": "https://localhost:8080/"
        },
        "id": "JJx15c9TIHex",
        "outputId": "66732600-233c-4bfa-9eba-4c8a9c0c99d4"
      },
      "execution_count": null,
      "outputs": [
        {
          "output_type": "execute_result",
          "data": {
            "text/plain": [
              "array([[1.        , 0.72916667, 0.64583333, 0.31166667, 0.69666667,\n",
              "        0.69666667],\n",
              "       [0.69666667, 1.        , 0.79166667, 0.34166667, 0.78166667,\n",
              "        0.78166667],\n",
              "       [0.69666667, 0.83333333, 1.        , 0.34166667, 0.82333333,\n",
              "        0.82333333],\n",
              "       [0.83333333, 0.83333333, 0.83333333, 1.        , 0.66666667,\n",
              "        0.66666667],\n",
              "       [0.39833333, 0.66666667, 0.66666667, 0.33333333, 1.        ,\n",
              "        0.83333333],\n",
              "       [0.39833333, 0.66666667, 0.66666667, 0.33333333, 0.81      ,\n",
              "        1.        ]])"
            ]
          },
          "metadata": {},
          "execution_count": 278
        }
      ]
    },
    {
      "cell_type": "markdown",
      "source": [
        "## calculate D"
      ],
      "metadata": {
        "id": "hOGWAswTHbpU"
      }
    },
    {
      "cell_type": "code",
      "source": [
        "sum_all = 0\n",
        "for i in range(6):\n",
        "    for j in range(6):\n",
        "        sum_all += P_mtx[i][j]\n",
        "sum_all = sum_all - 6"
      ],
      "metadata": {
        "id": "C1J1P-XFHbYr"
      },
      "execution_count": null,
      "outputs": []
    },
    {
      "cell_type": "code",
      "source": [
        "wj = []\n",
        "for j in range(6):\n",
        "    sum_temp = 0\n",
        "    for k in range(6):\n",
        "        if k != j:\n",
        "            sum_temp += P_mtx[j][k]\n",
        "    wj.append(sum_temp)\n",
        "wj/sum_all"
      ],
      "metadata": {
        "colab": {
          "base_uri": "https://localhost:8080/"
        },
        "id": "K87aQe1mIFys",
        "outputId": "07422caa-6c7c-43e3-9236-6703c83a785c"
      },
      "execution_count": null,
      "outputs": [
        {
          "output_type": "execute_result",
          "data": {
            "text/plain": [
              "array([0.15715622, 0.17314397, 0.17952207, 0.19559486, 0.14788673,\n",
              "       0.14669615])"
            ]
          },
          "metadata": {},
          "execution_count": 289
        }
      ]
    },
    {
      "cell_type": "code",
      "source": [
        "sum(wj/ sum_all)"
      ],
      "metadata": {
        "colab": {
          "base_uri": "https://localhost:8080/"
        },
        "id": "gYauYY3BI-lj",
        "outputId": "b832a259-a4e3-4ca7-fd19-29f1a44254f2"
      },
      "execution_count": null,
      "outputs": [
        {
          "output_type": "execute_result",
          "data": {
            "text/plain": [
              "0.9999999999999996"
            ]
          },
          "metadata": {},
          "execution_count": 288
        }
      ]
    },
    {
      "cell_type": "code",
      "source": [
        "calculate_P_ai_min(D, 0)"
      ],
      "metadata": {
        "id": "agyF7ch_kvWn"
      },
      "execution_count": null,
      "outputs": []
    },
    {
      "cell_type": "code",
      "source": [
        "d1[1][0]"
      ],
      "metadata": {
        "colab": {
          "base_uri": "https://localhost:8080/"
        },
        "id": "LPuO_IRotc00",
        "outputId": "43c1eea5-eea9-4c45-d2c0-938ce8c37b77"
      },
      "execution_count": null,
      "outputs": [
        {
          "output_type": "execute_result",
          "data": {
            "text/plain": [
              "0.2"
            ]
          },
          "metadata": {},
          "execution_count": 175
        }
      ]
    },
    {
      "cell_type": "code",
      "source": [
        "def calculate_ai(d1, d2, d3, i):\n",
        "    e1 = calculate_element_ai(d1, i)\n",
        "    e2 = calculate_element_ai(d2, i)\n",
        "    e3 = calculate_element_ai(d3, i)\n",
        "    return (e1, e2, e3)\n"
      ],
      "metadata": {
        "id": "sguOStJNsxDj"
      },
      "execution_count": null,
      "outputs": []
    },
    {
      "cell_type": "code",
      "source": [
        "def calculate_element_ai(d, i):\n",
        "    sum_ai = 0\n",
        "    for j in range(6):\n",
        "        sum_ai += d[j][i]\n",
        "    return sum_ai"
      ],
      "metadata": {
        "id": "ep1kj2f4tSfX"
      },
      "execution_count": null,
      "outputs": []
    },
    {
      "cell_type": "code",
      "source": [
        "A = []\n",
        "for i in range(6):\n",
        "    A.append(calculate_ai(d1, d2, d3, i))\n",
        "A"
      ],
      "metadata": {
        "colab": {
          "base_uri": "https://localhost:8080/"
        },
        "id": "1ALAWR5At_Rw",
        "outputId": "e9b2142a-54a0-4bff-e49c-05a351ec613f"
      },
      "execution_count": null,
      "outputs": [
        {
          "output_type": "execute_result",
          "data": {
            "text/plain": [
              "[(10.85, 15.850000000000001, 20.85),\n",
              " (17.3, 22.299999999999997, 27.299999999999997),\n",
              " (17.86, 22.86, 27.86),\n",
              " (25.85, 30.849999999999994, 35.85),\n",
              " (11.44, 16.44, 21.439999999999998),\n",
              " (11.44, 16.44, 21.439999999999998)]"
            ]
          },
          "metadata": {},
          "execution_count": 239
        }
      ]
    },
    {
      "cell_type": "code",
      "source": [
        "C = []\n",
        "for i in range(6):\n",
        "    c1 = A[i][0] * D[i][0]\n",
        "    c2 = A[i][1] * D[i][1]\n",
        "    c3 = A[i][2] * D[i][2]\n",
        "    C.append((c1, c2, c3))\n",
        "C"
      ],
      "metadata": {
        "colab": {
          "base_uri": "https://localhost:8080/"
        },
        "id": "xvCzsWcq6KRp",
        "outputId": "ac292191-f0b2-492d-83ba-56cfc72314b2"
      },
      "execution_count": null,
      "outputs": [
        {
          "output_type": "execute_result",
          "data": {
            "text/plain": [
              "[(1.4739182499999999, 2.2706393, 3.0815466000000002),\n",
              " (2.9070747, 3.7399106999999994, 4.5729410999999995),\n",
              " (3.09542376, 3.92545062, 4.75676068),\n",
              " (7.347914200000001, 7.896736199999998, 8.5558893),\n",
              " (1.38140288, 2.16669336, 2.9706192),\n",
              " (1.3475862399999998, 2.12978556, 2.9318342399999997)]"
            ]
          },
          "metadata": {},
          "execution_count": 246
        }
      ]
    },
    {
      "cell_type": "code",
      "source": [
        "calculate_P_ai_min(C, 0)"
      ],
      "metadata": {
        "colab": {
          "base_uri": "https://localhost:8080/"
        },
        "id": "uksWJwTwuNVM",
        "outputId": "d25e8806-a7c3-4c96-b92a-4f17cc222fc2"
      },
      "execution_count": null,
      "outputs": [
        {
          "output_type": "stream",
          "name": "stdout",
          "text": [
            "0 times: 1\n",
            "1 times: 0.10614303340430369\n",
            "2 times: -0.008456865813555757\n",
            "3 times: -3.137659532673165\n",
            "4 times: 1\n",
            "5 times: 1\n"
          ]
        },
        {
          "output_type": "execute_result",
          "data": {
            "text/plain": [
              "-3.137659532673165"
            ]
          },
          "metadata": {},
          "execution_count": 253
        }
      ]
    },
    {
      "cell_type": "code",
      "source": [
        "len(A)"
      ],
      "metadata": {
        "colab": {
          "base_uri": "https://localhost:8080/"
        },
        "id": "ltLaRPyG3X6G",
        "outputId": "e1cc9c66-f8cb-4684-b822-50e9cb7a8f5b"
      },
      "execution_count": null,
      "outputs": [
        {
          "output_type": "execute_result",
          "data": {
            "text/plain": [
              "6"
            ]
          },
          "metadata": {},
          "execution_count": 229
        }
      ]
    },
    {
      "cell_type": "code",
      "source": [],
      "metadata": {
        "colab": {
          "base_uri": "https://localhost:8080/"
        },
        "id": "_6WMlHik2pLw",
        "outputId": "27755388-4d10-489d-9981-5b2232b2ea85"
      },
      "execution_count": null,
      "outputs": [
        {
          "output_type": "stream",
          "name": "stdout",
          "text": [
            "[(10.85, 15.850000000000001, 20.85), (17.3, 22.299999999999997, 27.299999999999997), (17.86, 22.86, 27.86), (25.85, 30.849999999999994, 35.85), (11.44, 16.44, 21.439999999999998), (11.44, 16.44, 21.439999999999998)]\n"
          ]
        }
      ]
    },
    {
      "cell_type": "code",
      "source": [],
      "metadata": {
        "colab": {
          "base_uri": "https://localhost:8080/"
        },
        "id": "etr874fUvYOa",
        "outputId": "1e389365-2332-405c-b35f-10355b322ea6"
      },
      "execution_count": null,
      "outputs": [
        {
          "output_type": "execute_result",
          "data": {
            "text/plain": [
              "[(0.135845, 0.143258, 0.147796),\n",
              " (0.168039, 0.167709, 0.167507),\n",
              " (0.173316, 0.171717, 0.170738),\n",
              " (0.284252, 0.255972, 0.238658),\n",
              " (0.120752, 0.131794, 0.138555),\n",
              " (0.117796, 0.129549, 0.136746)]"
            ]
          },
          "metadata": {},
          "execution_count": 193
        }
      ]
    },
    {
      "cell_type": "code",
      "source": [
        "aa = [0.3*0.143, 0.145 * 0.167709, 0.2 * 0.171, ]"
      ],
      "metadata": {
        "colab": {
          "base_uri": "https://localhost:8080/"
        },
        "id": "YqXtMlU5vcPN",
        "outputId": "da7d208b-8035-4251-908a-262c58e9c567"
      },
      "execution_count": null,
      "outputs": [
        {
          "output_type": "execute_result",
          "data": {
            "text/plain": [
              "0.024317804999999998"
            ]
          },
          "metadata": {},
          "execution_count": 194
        }
      ]
    },
    {
      "cell_type": "code",
      "source": [],
      "metadata": {
        "id": "9yVww-0PLnR1"
      },
      "execution_count": null,
      "outputs": []
    }
  ]
}